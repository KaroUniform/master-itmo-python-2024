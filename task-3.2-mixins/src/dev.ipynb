{
 "cells": [
  {
   "cell_type": "code",
   "execution_count": 7,
   "metadata": {},
   "outputs": [],
   "source": [
    "import numpy as np"
   ]
  },
  {
   "cell_type": "code",
   "execution_count": 8,
   "metadata": {},
   "outputs": [],
   "source": [
    "from advanced_matrix import AdvancedMatrix"
   ]
  },
  {
   "cell_type": "code",
   "execution_count": 9,
   "metadata": {},
   "outputs": [],
   "source": [
    "np.random.seed(0)"
   ]
  },
  {
   "cell_type": "code",
   "execution_count": 10,
   "metadata": {},
   "outputs": [],
   "source": [
    "adv_a = AdvancedMatrix(np.random.randint(0, 10, (10, 10)))\n",
    "adv_b = AdvancedMatrix(np.random.randint(0, 10, (10, 10)))"
   ]
  },
  {
   "cell_type": "code",
   "execution_count": 13,
   "metadata": {},
   "outputs": [],
   "source": [
    "adv_c = adv_a - adv_b"
   ]
  },
  {
   "cell_type": "code",
   "execution_count": 14,
   "metadata": {},
   "outputs": [
    {
     "name": "stdout",
     "output_type": "stream",
     "text": [
      "5\t-3\t1\t3\t0\t4\t-6\t5\t0\t-3\n",
      "5\t-3\t6\t5\t-2\t4\t4\t3\t7\t-1\n",
      "-4\t8\t4\t3\t-4\t1\t-3\t3\t5\t-6\n",
      "2\t-3\t5\t-2\t-5\t-5\t-5\t5\t-3\t-1\n",
      "9\t1\t-8\t1\t-1\t1\t-6\t3\t-1\t0\n",
      "-4\t1\t-1\t-4\t-2\t8\t-4\t-4\t-5\t9\n",
      "-1\t-5\t-4\t4\t8\t1\t3\t2\t-2\t-4\n",
      "-5\t-4\t-3\t1\t-5\t2\t-2\t-2\t-2\t-6\n",
      "3\t-2\t0\t-4\t0\t5\t2\t-1\t-3\t-5\n",
      "0\t2\t3\t-8\t1\t-6\t-4\t-6\t2\t-1\n"
     ]
    }
   ],
   "source": [
    "print(adv_c)"
   ]
  },
  {
   "cell_type": "code",
   "execution_count": 15,
   "metadata": {},
   "outputs": [],
   "source": [
    "adv_c.save_to_file(\"matrix-.txt\")"
   ]
  }
 ],
 "metadata": {
  "kernelspec": {
   "display_name": "itmo-ab",
   "language": "python",
   "name": "python3"
  },
  "language_info": {
   "codemirror_mode": {
    "name": "ipython",
    "version": 3
   },
   "file_extension": ".py",
   "mimetype": "text/x-python",
   "name": "python",
   "nbconvert_exporter": "python",
   "pygments_lexer": "ipython3",
   "version": "3.12.2"
  }
 },
 "nbformat": 4,
 "nbformat_minor": 2
}
