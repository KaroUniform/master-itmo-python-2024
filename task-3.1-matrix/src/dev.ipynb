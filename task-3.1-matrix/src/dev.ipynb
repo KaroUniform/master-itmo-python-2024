{
 "cells": [
  {
   "cell_type": "code",
   "execution_count": 1,
   "metadata": {},
   "outputs": [],
   "source": [
    "from matrix import Matrix\n",
    "import numpy as np"
   ]
  },
  {
   "cell_type": "code",
   "execution_count": 3,
   "metadata": {},
   "outputs": [],
   "source": [
    "np.random.seed(0)"
   ]
  },
  {
   "cell_type": "code",
   "execution_count": 4,
   "metadata": {},
   "outputs": [],
   "source": [
    "a = Matrix(np.random.randint(0, 10, (10, 10)))\n",
    "b = Matrix(np.random.randint(0, 10, (10, 10)))"
   ]
  },
  {
   "cell_type": "code",
   "execution_count": 6,
   "metadata": {},
   "outputs": [
    {
     "name": "stdout",
     "output_type": "stream",
     "text": [
      "5 3 5 3 14 14 12 5 4 11\n",
      "9 15 10 11 4 8 10 11 9 3\n",
      "14 10 12 15 12 5 3 3 5 6\n",
      "2 9 11 4 11 11 11 9 3 3\n",
      "9 17 8 7 15 5 10 11 5 0\n",
      "4 7 11 14 14 8 12 6 13 9\n",
      "17 7 6 10 10 17 3 10 16 8\n",
      "5 10 13 17 13 6 14 10 10 12\n",
      "5 10 16 12 6 9 8 11 3 7\n",
      "10 16 3 8 9 6 6 10 6 5\n"
     ]
    }
   ],
   "source": [
    "print(a + b)"
   ]
  },
  {
   "cell_type": "code",
   "execution_count": 9,
   "metadata": {},
   "outputs": [
    {
     "name": "stdout",
     "output_type": "stream",
     "text": [
      "Строка успешно записана в файл.\n"
     ]
    }
   ],
   "source": [
    "def write_to_file(file_path, content):\n",
    "    try:\n",
    "        with open(file_path, 'w') as file:\n",
    "            file.write(content)\n",
    "        print(\"Строка успешно записана в файл.\")\n",
    "    except IOError:\n",
    "        print(\"Ошибка записи в файл.\")\n",
    "\n",
    "file_path = \"matrix@.txt\"  \n",
    "\n",
    "write_to_file(file_path, str(a @ b))"
   ]
  }
 ],
 "metadata": {
  "kernelspec": {
   "display_name": "itmo-ab",
   "language": "python",
   "name": "python3"
  },
  "language_info": {
   "codemirror_mode": {
    "name": "ipython",
    "version": 3
   },
   "file_extension": ".py",
   "mimetype": "text/x-python",
   "name": "python",
   "nbconvert_exporter": "python",
   "pygments_lexer": "ipython3",
   "version": "3.12.2"
  }
 },
 "nbformat": 4,
 "nbformat_minor": 2
}
