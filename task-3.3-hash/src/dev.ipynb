{
 "cells": [
  {
   "cell_type": "code",
   "execution_count": 1,
   "metadata": {},
   "outputs": [],
   "source": [
    "from advanced_matrix import AdvancedMatrix\n",
    "import numpy as np"
   ]
  },
  {
   "cell_type": "code",
   "execution_count": 2,
   "metadata": {},
   "outputs": [],
   "source": [
    "np.random.seed(0)"
   ]
  },
  {
   "cell_type": "code",
   "execution_count": 3,
   "metadata": {},
   "outputs": [],
   "source": [
    "a = AdvancedMatrix([[1, 2], [3, 4]])\n",
    "b = AdvancedMatrix([[2, 0], [1, 3]])\n",
    "d = AdvancedMatrix([[2, 0], [1, 3]])\n",
    "c = AdvancedMatrix([[4, 1], [2, 3]])"
   ]
  },
  {
   "cell_type": "code",
   "execution_count": 11,
   "metadata": {},
   "outputs": [
    {
     "name": "stdout",
     "output_type": "stream",
     "text": [
      "137 212 212 226 281 131 272 165 192 146\n",
      "219 303 281 296 349 221 310 200 232 281\n",
      "122 250 201 205 296 155 263 133 118 176\n",
      "157 154 158 169 213 90 168 103 117 154\n",
      "85 270 204 165 273 143 282 149 153 176\n",
      "175 261 199 271 265 166 244 208 181 132\n",
      "121 291 288 267 353 180 357 205 234 198\n",
      "160 239 203 220 251 178 219 162 174 159\n",
      "183 197 191 207 270 138 229 129 173 170\n",
      "78 197 133 127 165 91 159 112 71 125\n"
     ]
    }
   ],
   "source": [
    "print(a @ b)"
   ]
  },
  {
   "cell_type": "code",
   "execution_count": 9,
   "metadata": {},
   "outputs": [
    {
     "name": "stdout",
     "output_type": "stream",
     "text": [
      "Строка успешно записана в файл.\n"
     ]
    }
   ],
   "source": [
    "def write_to_file(file_path, content):\n",
    "    try:\n",
    "        with open(file_path, 'w') as file:\n",
    "            file.write(content)\n",
    "        print(\"Строка успешно записана в файл.\")\n",
    "    except IOError:\n",
    "        print(\"Ошибка записи в файл.\")\n",
    "\n",
    "file_path = \"matrix@.txt\"  \n",
    "\n",
    "write_to_file(file_path, str(a @ b))"
   ]
  }
 ],
 "metadata": {
  "kernelspec": {
   "display_name": "itmo-ab",
   "language": "python",
   "name": "python3"
  },
  "language_info": {
   "codemirror_mode": {
    "name": "ipython",
    "version": 3
   },
   "file_extension": ".py",
   "mimetype": "text/x-python",
   "name": "python",
   "nbconvert_exporter": "python",
   "pygments_lexer": "ipython3",
   "version": "3.12.2"
  }
 },
 "nbformat": 4,
 "nbformat_minor": 2
}
